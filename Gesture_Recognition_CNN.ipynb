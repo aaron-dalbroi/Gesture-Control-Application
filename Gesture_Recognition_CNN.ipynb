{
  "nbformat": 4,
  "nbformat_minor": 0,
  "metadata": {
    "colab": {
      "provenance": []
    },
    "kernelspec": {
      "name": "python3",
      "display_name": "Python 3"
    },
    "language_info": {
      "name": "python"
    }
  },
  "cells": [
    {
      "cell_type": "code",
      "execution_count": 33,
      "metadata": {
        "id": "aiHOdyRSsGxC"
      },
      "outputs": [],
      "source": [
        "import os\n",
        "import zipfile\n",
        "from google.colab import files\n",
        "\n",
        "\n",
        "if not os.path.exists('sign_mnist'):\n",
        "  # Install Kaggle CLI\n",
        "  !pip install -q kaggle\n",
        "\n",
        "  # Import your kaggle.json API Key\n",
        "  files.upload()\n",
        "\n",
        "  # Moves kaggle.json to the correct location\n",
        "  !mkdir -p ~/.kaggle\n",
        "  !mv kaggle.json ~/.kaggle/\n",
        "  !chmod 600 ~/.kaggle/kaggle.json\n",
        "\n",
        "  # Download Sign Language MNIST dataset\n",
        "  !kaggle datasets download -d datamunge/sign-language-mnist\n",
        "\n",
        "  # Extract the dataset\n",
        "  dataset_zip = 'sign-language-mnist.zip'\n",
        "  with zipfile.ZipFile(dataset_zip, 'r') as zip_ref:\n",
        "      zip_ref.extractall('sign_mnist')\n",
        "\n",
        "  # Check extracted files\n",
        "  os.listdir('sign_mnist')\n"
      ]
    },
    {
      "cell_type": "code",
      "source": [
        "import cv2 as cv\n",
        "import numpy as np\n",
        "# Function to augment images by rotating them 360 degrees in steps of 10 degrees\n",
        "def augment_with_rotation(images, labels, angles = np.arange(22.5, 360, 22.5) ):\n",
        "    augmented_images = list(images)  # Start with original images\n",
        "    augmented_labels = list(labels)  # Start with original labels\n",
        "    print(angles)\n",
        "\n",
        "\n",
        "    for img, label in zip(images, labels):\n",
        "        # Ensure image is in uint8 format\n",
        "        if img.dtype != np.uint8:\n",
        "            img = (img * 255).astype(np.uint8)\n",
        "\n",
        "        # Ensure image is 2D\n",
        "        if len(img.shape) != 2:\n",
        "            raise ValueError(f\"Expected a 2D image, but got shape: {img.shape}\")\n",
        "\n",
        "        rows, cols = img.shape\n",
        "\n",
        "        for angle in angles:\n",
        "            # Compute rotation matrix\n",
        "            M = cv.getRotationMatrix2D(((cols - 1) / 2.0, (rows - 1) / 2.0), angle, 1)\n",
        "            rotated_img = cv.warpAffine(img, M, (cols, rows))\n",
        "\n",
        "            augmented_images.append(rotated_img)\n",
        "            augmented_labels.append(label)  # Keep the same label for rotated images\n",
        "\n",
        "    return np.array(augmented_images), np.array(augmented_labels)\n"
      ],
      "metadata": {
        "id": "dYD71hm12F8s"
      },
      "execution_count": 34,
      "outputs": []
    },
    {
      "cell_type": "code",
      "source": [
        "import pandas as pd\n",
        "import numpy as np\n",
        "import matplotlib.pyplot as plt\n",
        "from sklearn.model_selection import train_test_split\n",
        "\n",
        "\n",
        "# To make our gesture recognition more robust, we will restrict\n",
        "# our number of classes to hand gestures with very distinct profiles.\n",
        "\n",
        "filtered_labels = [0, 2, 19, 24]\n",
        "\n",
        "\n",
        "# Filter the datasets\n",
        "train_df = pd.read_csv('sign_mnist/sign_mnist_train.csv')\n",
        "train_df = train_df[train_df['label'].isin(filtered_labels)]\n",
        "\n",
        "test_df = pd.read_csv('sign_mnist/sign_mnist_test.csv')\n",
        "test_df = test_df[test_df['label'].isin(filtered_labels)]\n",
        "\n",
        "training_labels = train_df['label'].values\n",
        "training_images = train_df.drop('label', axis=1).values\n",
        "\n",
        "testing_labels = test_df['label'].values\n",
        "testing_images = test_df.drop('label', axis=1).values\n",
        "\n",
        "\n",
        "# Split the data into images and labels\n",
        "# Split training data into training (80%) and validation (20%)\n",
        "training_images, val_images, training_labels, val_labels = train_test_split(\n",
        "    training_images, training_labels, test_size=0.2, random_state=42, stratify=training_labels\n",
        ")\n",
        "\n",
        "# Create a mapping from original labels to new labels\n",
        "# This will convert the labels to 0,1,2,3\n",
        "label_mapping = {label: idx for idx, label in enumerate(filtered_labels)}\n",
        "\n",
        "# Apply the mapping\n",
        "training_labels = np.vectorize(label_mapping.get)(training_labels)\n",
        "testing_labels = np.vectorize(label_mapping.get)(testing_labels)\n",
        "val_labels = np.vectorize(label_mapping.get)(val_labels)\n",
        "\n",
        "# Reshape the images to 28x28\n",
        "training_images = training_images.reshape(-1, 28, 28)\n",
        "testing_images = testing_images.reshape(-1, 28, 28)\n",
        "val_images = val_images.reshape(-1, 28, 28)\n",
        "\n",
        "# Augment the data with rotated versions of every image\n",
        "training_images, training_labels = augment_with_rotation(training_images, training_labels)\n",
        "testing_images, testing_labels = augment_with_rotation(testing_images, testing_labels)\n",
        "val_images, val_labels = augment_with_rotation(val_images, val_labels)\n",
        "\n",
        "\n",
        "# Display an example of each label\n",
        "selected_images = []\n",
        "selected_labels = []\n",
        "\n",
        "for class_label in [0,1,2,3]:\n",
        "    idx = np.where(training_labels == class_label)[0][0]  # First occurrence\n",
        "    selected_images.append(training_images[idx])\n",
        "    selected_labels.append(class_label)\n",
        "\n",
        "plt.figure(figsize=(len(selected_images) * 3, 3))\n",
        "for i, (img, lbl) in enumerate(zip(selected_images, selected_labels)):\n",
        "    plt.subplot(1, len(selected_images), i+1)\n",
        "    plt.imshow(img, cmap='gray')\n",
        "    plt.title(f'Label: {lbl}', fontsize=14)\n",
        "    plt.axis('off')\n",
        "\n",
        "\n",
        "plt.show()\n"
      ],
      "metadata": {
        "colab": {
          "base_uri": "https://localhost:8080/",
          "height": 327
        },
        "id": "nVF7pM7h1Im2",
        "outputId": "c331a5d3-ac9a-4872-fdf9-e23e6450f0e6"
      },
      "execution_count": 35,
      "outputs": [
        {
          "output_type": "stream",
          "name": "stdout",
          "text": [
            "[ 22.5  45.   67.5  90.  112.5 135.  157.5 180.  202.5 225.  247.5 270.\n",
            " 292.5 315.  337.5]\n",
            "[ 22.5  45.   67.5  90.  112.5 135.  157.5 180.  202.5 225.  247.5 270.\n",
            " 292.5 315.  337.5]\n",
            "[ 22.5  45.   67.5  90.  112.5 135.  157.5 180.  202.5 225.  247.5 270.\n",
            " 292.5 315.  337.5]\n"
          ]
        },
        {
          "output_type": "display_data",
          "data": {
            "text/plain": [
              "<Figure size 1200x300 with 4 Axes>"
            ],
            "image/png": "[encoded data removed]"
          },
          "metadata": {}
        }
      ]
    },
    {
      "cell_type": "code",
      "source": [
        "import pandas as pd\n",
        "import numpy as np\n",
        "import matplotlib.pyplot as plt\n",
        "import torch\n",
        "from torch.utils.data import TensorDataset, DataLoader\n",
        "from torchvision import transforms\n",
        "\n",
        "# Preprocessing\n",
        "\n",
        "\n",
        "# Normalize images to [0, 1]\n",
        "training_images = training_images.astype(np.float32) / 255.0\n",
        "testing_images = testing_images.astype(np.float32) / 255.0\n",
        "val_images = val_images.astype(np.float32) / 255.0\n",
        "\n",
        "# Ensure images have shape (batch_size, 1, 28, 28)\n",
        "training_images = torch.tensor(training_images).unsqueeze(1)  # Add channel dimension\n",
        "testing_images = torch.tensor(testing_images).unsqueeze(1)  # Add channel dimension\n",
        "val_images = torch.tensor(val_images).unsqueeze(1)  # Add channel dimension\n",
        "\n",
        "\n",
        "training_labels = torch.tensor(training_labels, dtype=torch.long)\n",
        "testing_labels = torch.tensor(testing_labels, dtype=torch.long)\n",
        "val_labels = torch.tensor(val_labels, dtype=torch.long)\n",
        "\n",
        "\n",
        "print(\"Training images shape:\", training_images.shape)  # Should be (num_samples, 1, 28, 28)\n",
        "print(\"Testing images shape:\", testing_images.shape)  # Should be (num_samples, 1, 28, 28)\n",
        "\n"
      ],
      "metadata": {
        "id": "I96LgNpeAyRG",
        "colab": {
          "base_uri": "https://localhost:8080/"
        },
        "outputId": "582c9541-96eb-4a60-87a0-521ecc9a4bb6"
      },
      "execution_count": 36,
      "outputs": [
        {
          "output_type": "stream",
          "name": "stdout",
          "text": [
            "Training images shape: torch.Size([58544, 1, 28, 28])\n",
            "Testing images shape: torch.Size([19536, 1, 28, 28])\n"
          ]
        }
      ]
    },
    {
      "cell_type": "code",
      "source": [
        "# Credit for model goes to https://peyrone.medium.com/comparing-svm-and-cnn-in-recognizing-handwritten-digits-an-overview-5ef06b20194e\n",
        "\n",
        "import torch\n",
        "import torch.nn as nn\n",
        "import torch.nn.functional as F\n",
        "\n",
        "class CNNModel(nn.Module):\n",
        "    def __init__(self):\n",
        "        super(CNNModel, self).__init__()\n",
        "        # First convolution layer: input channels = 1 (grayscale), output = 32\n",
        "        self.conv1 = nn.Conv2d(in_channels=1, out_channels=32, kernel_size=3, padding=1)  # 28x28 -> 28x28\n",
        "        self.pool = nn.MaxPool2d(kernel_size=2, stride=2)  # 28x28 -> 14x14\n",
        "        self.conv2 = nn.Conv2d(32, 64, kernel_size=3, padding=1)  # 14x14 -> 14x14\n",
        "        self.conv3 = nn.Conv2d(64, 64, kernel_size=3, padding=1)  # 14x14 -> 14x14\n",
        "        self.pool2 = nn.MaxPool2d(kernel_size=2, stride=2)  # 14x14 -> 7x7\n",
        "\n",
        "        # Fully connected layers\n",
        "        self.fc1 = nn.Linear(64 * 7 * 7, 64)  # Input size = (64 * 7 * 7)\n",
        "        self.fc2 = nn.Linear(64, 4)  # Output layer with 4 classes\n",
        "\n",
        "    def forward(self, x):\n",
        "        x = self.pool(F.relu(self.conv1(x)))  # Conv1 -> ReLU -> MaxPool (28x28 -> 14x14)\n",
        "        x = F.relu(self.conv2(x))  # Conv2 -> ReLU (14x14 -> 14x14)\n",
        "        x = self.pool2(F.relu(self.conv3(x)))  # Conv3 -> ReLU -> MaxPool (14x14 -> 7x7)\n",
        "        x = x.view(-1, 64 * 7 * 7)  # Flatten (7x7 feature map to vector)\n",
        "        x = F.relu(self.fc1(x))  # Fully connected layer\n",
        "        x = self.fc2(x)  # Output layer\n",
        "        return x\n",
        "\n",
        "# Create model\n",
        "model = CNNModel()\n",
        "\n"
      ],
      "metadata": {
        "id": "STdxTog1IYqT"
      },
      "execution_count": 37,
      "outputs": []
    },
    {
      "cell_type": "code",
      "source": [
        "import torch.optim as optim\n",
        "import torch.nn as nn\n",
        "\n",
        "# Define the optimizer (Adam)\n",
        "optimizer = optim.Adam(model.parameters(), lr=0.001)\n",
        "\n",
        "# Define the loss function (Sparse Categorical Crossentropy)\n",
        "criterion = nn.CrossEntropyLoss()\n",
        "\n",
        "# Metrics function for accuracy (can be computed manually during training)\n",
        "def compute_accuracy(outputs, labels):\n",
        "    _, predicted = torch.max(outputs, 1)\n",
        "    correct = (predicted == labels).sum().item()\n",
        "    accuracy = correct / labels.size(0)\n",
        "    return accuracy\n"
      ],
      "metadata": {
        "id": "h1GlqL2uMagV"
      },
      "execution_count": 38,
      "outputs": []
    },
    {
      "cell_type": "code",
      "source": [
        "import torch\n",
        "from torch.utils.data import DataLoader, TensorDataset\n",
        "import torch.optim as optim\n",
        "from torch.optim.lr_scheduler import ReduceLROnPlateau\n",
        "\n",
        "# Convert the training and testing data to PyTorch tensors\n",
        "train_tensor = TensorDataset(torch.tensor(training_images, dtype=torch.float32), torch.tensor(training_labels, dtype=torch.long))\n",
        "test_tensor = TensorDataset(torch.tensor(testing_images, dtype=torch.float32), torch.tensor(testing_labels, dtype=torch.long))\n",
        "val_tensor = TensorDataset(torch.tensor(val_images, dtype=torch.float32), torch.tensor(val_labels, dtype=torch.long))\n",
        "# Create DataLoader for batching\n",
        "train_loader = DataLoader(train_tensor, batch_size=128, shuffle=True)\n",
        "test_loader = DataLoader(test_tensor, batch_size=128, shuffle=False)\n",
        "val_loader = DataLoader(val_tensor, batch_size=128, shuffle=False)\n",
        "\n",
        "# Define optimizer and learning rate scheduler\n",
        "optimizer = optim.Adam(model.parameters(), lr=0.001)\n",
        "scheduler = ReduceLROnPlateau(optimizer, mode='min', factor=0.5, patience=3, verbose=True)\n",
        "\n",
        "best_val_loss = float('inf')\n",
        "early_stop_patience = 5  # Stop if no improvement for 5 epochs\n",
        "epochs_without_improvement = 0\n",
        "\n",
        "num_epochs = 50  # Max limit\n",
        "\n",
        "# Note to self: change this to stop training at epoch 7,\n",
        "# its overfitting past that -ADB\n",
        "\n",
        "for epoch in range(num_epochs):\n",
        "    model.train()\n",
        "    train_loss = 0.0\n",
        "\n",
        "    for inputs, labels in train_loader:\n",
        "        optimizer.zero_grad()\n",
        "        outputs = model(inputs)\n",
        "        loss = criterion(outputs, labels)\n",
        "        loss.backward()\n",
        "        optimizer.step()\n",
        "        train_loss += loss.item()\n",
        "\n",
        "    train_loss /= len(train_loader)\n",
        "\n",
        "    # Evaluate on validation set\n",
        "    model.eval()\n",
        "    val_loss = 0.0\n",
        "    correct = 0\n",
        "    total = 0\n",
        "\n",
        "    with torch.no_grad():\n",
        "        for inputs, labels in val_loader:\n",
        "            outputs = model(inputs)\n",
        "            loss = criterion(outputs, labels)\n",
        "            val_loss += loss.item()\n",
        "\n",
        "            _, predicted = torch.max(outputs, 1)\n",
        "            correct += (predicted == labels).sum().item()\n",
        "            total += labels.size(0)\n",
        "\n",
        "    val_loss /= len(val_loader)\n",
        "    val_acc = correct / total\n",
        "\n",
        "    print(f\"Epoch {epoch+1}: Train Loss = {train_loss:.4f}, Val Loss = {val_loss:.4f}, Val Acc = {val_acc:.4f}\")\n",
        "\n",
        "    # Reduce LR if validation loss plateaus\n",
        "    scheduler.step(val_loss)\n",
        "\n",
        "    # Early stopping\n",
        "    if val_loss < best_val_loss:\n",
        "        best_val_loss = val_loss\n",
        "        epochs_without_improvement = 0\n",
        "        torch.save(model.state_dict(), \"rotated_gesture_model.pth\")  # Save best model\n",
        "    else:\n",
        "        epochs_without_improvement += 1\n",
        "        if epochs_without_improvement >= early_stop_patience:\n",
        "            print(\"Early stopping triggered.\")\n",
        "            break  # Stop training"
      ],
      "metadata": {
        "colab": {
          "base_uri": "https://localhost:8080/",
          "height": 920
        },
        "id": "VlSflAJlMdLO",
        "outputId": "d95e4fb0-d668-45cb-e73f-b1a1bfdc6d2b",
        "collapsed": true
      },
      "execution_count": 39,
      "outputs": [
        {
          "output_type": "stream",
          "name": "stderr",
          "text": [
            "<ipython-input-39-51867615eff3>:7: UserWarning: To copy construct from a tensor, it is recommended to use sourceTensor.clone().detach() or sourceTensor.clone().detach().requires_grad_(True), rather than torch.tensor(sourceTensor).\n",
            "  train_tensor = TensorDataset(torch.tensor(training_images, dtype=torch.float32), torch.tensor(training_labels, dtype=torch.long))\n",
            "<ipython-input-39-51867615eff3>:8: UserWarning: To copy construct from a tensor, it is recommended to use sourceTensor.clone().detach() or sourceTensor.clone().detach().requires_grad_(True), rather than torch.tensor(sourceTensor).\n",
            "  test_tensor = TensorDataset(torch.tensor(testing_images, dtype=torch.float32), torch.tensor(testing_labels, dtype=torch.long))\n",
            "<ipython-input-39-51867615eff3>:9: UserWarning: To copy construct from a tensor, it is recommended to use sourceTensor.clone().detach() or sourceTensor.clone().detach().requires_grad_(True), rather than torch.tensor(sourceTensor).\n",
            "  val_tensor = TensorDataset(torch.tensor(val_images, dtype=torch.float32), torch.tensor(val_labels, dtype=torch.long))\n",
            "/usr/local/lib/python3.11/dist-packages/torch/optim/lr_scheduler.py:62: UserWarning: The verbose parameter is deprecated. Please use get_last_lr() to access the learning rate.\n",
            "  warnings.warn(\n"
          ]
        },
        {
          "output_type": "stream",
          "name": "stdout",
          "text": [
            "Epoch 1: Train Loss = 0.5069, Val Loss = 0.0790, Val Acc = 0.9747\n",
            "Epoch 2: Train Loss = 0.0449, Val Loss = 0.0212, Val Acc = 0.9930\n",
            "Epoch 3: Train Loss = 0.0148, Val Loss = 0.0116, Val Acc = 0.9960\n",
            "Epoch 4: Train Loss = 0.0072, Val Loss = 0.0042, Val Acc = 0.9991\n",
            "Epoch 5: Train Loss = 0.0043, Val Loss = 0.0046, Val Acc = 0.9988\n",
            "Epoch 6: Train Loss = 0.0041, Val Loss = 0.0259, Val Acc = 0.9910\n",
            "Epoch 7: Train Loss = 0.0052, Val Loss = 0.0010, Val Acc = 0.9999\n",
            "Epoch 8: Train Loss = 0.0003, Val Loss = 0.0003, Val Acc = 1.0000\n",
            "Epoch 9: Train Loss = 0.0001, Val Loss = 0.0002, Val Acc = 1.0000\n",
            "Epoch 10: Train Loss = 0.0000, Val Loss = 0.0001, Val Acc = 1.0000\n",
            "Epoch 11: Train Loss = 0.0000, Val Loss = 0.0001, Val Acc = 1.0000\n",
            "Epoch 12: Train Loss = 0.0000, Val Loss = 0.0001, Val Acc = 1.0000\n",
            "Epoch 13: Train Loss = 0.0000, Val Loss = 0.0001, Val Acc = 1.0000\n",
            "Epoch 14: Train Loss = 0.0000, Val Loss = 0.0001, Val Acc = 1.0000\n",
            "Epoch 15: Train Loss = 0.0000, Val Loss = 0.0000, Val Acc = 1.0000\n",
            "Epoch 16: Train Loss = 0.0000, Val Loss = 0.0000, Val Acc = 1.0000\n",
            "Epoch 17: Train Loss = 0.0000, Val Loss = 0.0000, Val Acc = 1.0000\n",
            "Epoch 18: Train Loss = 0.0000, Val Loss = 0.0000, Val Acc = 1.0000\n",
            "Epoch 19: Train Loss = 0.0000, Val Loss = 0.0000, Val Acc = 1.0000\n"
          ]
        },
        {
          "output_type": "error",
          "ename": "KeyboardInterrupt",
          "evalue": "",
          "traceback": [
            "\u001b[0;31m---------------------------------------------------------------------------\u001b[0m",
            "\u001b[0;31mKeyboardInterrupt\u001b[0m                         Traceback (most recent call last)",
            "\u001b[0;32m<ipython-input-39-51867615eff3>\u001b[0m in \u001b[0;36m<cell line: 0>\u001b[0;34m()\u001b[0m\n\u001b[1;32m     31\u001b[0m         \u001b[0moutputs\u001b[0m \u001b[0;34m=\u001b[0m \u001b[0mmodel\u001b[0m\u001b[0;34m(\u001b[0m\u001b[0minputs\u001b[0m\u001b[0;34m)\u001b[0m\u001b[0;34m\u001b[0m\u001b[0;34m\u001b[0m\u001b[0m\n\u001b[1;32m     32\u001b[0m         \u001b[0mloss\u001b[0m \u001b[0;34m=\u001b[0m \u001b[0mcriterion\u001b[0m\u001b[0;34m(\u001b[0m\u001b[0moutputs\u001b[0m\u001b[0;34m,\u001b[0m \u001b[0mlabels\u001b[0m\u001b[0;34m)\u001b[0m\u001b[0;34m\u001b[0m\u001b[0;34m\u001b[0m\u001b[0m\n\u001b[0;32m---> 33\u001b[0;31m         \u001b[0mloss\u001b[0m\u001b[0;34m.\u001b[0m\u001b[0mbackward\u001b[0m\u001b[0;34m(\u001b[0m\u001b[0;34m)\u001b[0m\u001b[0;34m\u001b[0m\u001b[0;34m\u001b[0m\u001b[0m\n\u001b[0m\u001b[1;32m     34\u001b[0m         \u001b[0moptimizer\u001b[0m\u001b[0;34m.\u001b[0m\u001b[0mstep\u001b[0m\u001b[0;34m(\u001b[0m\u001b[0;34m)\u001b[0m\u001b[0;34m\u001b[0m\u001b[0;34m\u001b[0m\u001b[0m\n\u001b[1;32m     35\u001b[0m         \u001b[0mtrain_loss\u001b[0m \u001b[0;34m+=\u001b[0m \u001b[0mloss\u001b[0m\u001b[0;34m.\u001b[0m\u001b[0mitem\u001b[0m\u001b[0;34m(\u001b[0m\u001b[0;34m)\u001b[0m\u001b[0;34m\u001b[0m\u001b[0;34m\u001b[0m\u001b[0m\n",
            "\u001b[0;32m/usr/local/lib/python3.11/dist-packages/torch/_tensor.py\u001b[0m in \u001b[0;36mbackward\u001b[0;34m(self, gradient, retain_graph, create_graph, inputs)\u001b[0m\n\u001b[1;32m    624\u001b[0m                 \u001b[0minputs\u001b[0m\u001b[0;34m=\u001b[0m\u001b[0minputs\u001b[0m\u001b[0;34m,\u001b[0m\u001b[0;34m\u001b[0m\u001b[0;34m\u001b[0m\u001b[0m\n\u001b[1;32m    625\u001b[0m             )\n\u001b[0;32m--> 626\u001b[0;31m         torch.autograd.backward(\n\u001b[0m\u001b[1;32m    627\u001b[0m             \u001b[0mself\u001b[0m\u001b[0;34m,\u001b[0m \u001b[0mgradient\u001b[0m\u001b[0;34m,\u001b[0m \u001b[0mretain_graph\u001b[0m\u001b[0;34m,\u001b[0m \u001b[0mcreate_graph\u001b[0m\u001b[0;34m,\u001b[0m \u001b[0minputs\u001b[0m\u001b[0;34m=\u001b[0m\u001b[0minputs\u001b[0m\u001b[0;34m\u001b[0m\u001b[0;34m\u001b[0m\u001b[0m\n\u001b[1;32m    628\u001b[0m         )\n",
            "\u001b[0;32m/usr/local/lib/python3.11/dist-packages/torch/autograd/__init__.py\u001b[0m in \u001b[0;36mbackward\u001b[0;34m(tensors, grad_tensors, retain_graph, create_graph, grad_variables, inputs)\u001b[0m\n\u001b[1;32m    345\u001b[0m     \u001b[0;31m# some Python versions print out the first line of a multi-line function\u001b[0m\u001b[0;34m\u001b[0m\u001b[0;34m\u001b[0m\u001b[0m\n\u001b[1;32m    346\u001b[0m     \u001b[0;31m# calls in the traceback and some print out the last line\u001b[0m\u001b[0;34m\u001b[0m\u001b[0;34m\u001b[0m\u001b[0m\n\u001b[0;32m--> 347\u001b[0;31m     _engine_run_backward(\n\u001b[0m\u001b[1;32m    348\u001b[0m         \u001b[0mtensors\u001b[0m\u001b[0;34m,\u001b[0m\u001b[0;34m\u001b[0m\u001b[0;34m\u001b[0m\u001b[0m\n\u001b[1;32m    349\u001b[0m         \u001b[0mgrad_tensors_\u001b[0m\u001b[0;34m,\u001b[0m\u001b[0;34m\u001b[0m\u001b[0;34m\u001b[0m\u001b[0m\n",
            "\u001b[0;32m/usr/local/lib/python3.11/dist-packages/torch/autograd/graph.py\u001b[0m in \u001b[0;36m_engine_run_backward\u001b[0;34m(t_outputs, *args, **kwargs)\u001b[0m\n\u001b[1;32m    821\u001b[0m         \u001b[0munregister_hooks\u001b[0m \u001b[0;34m=\u001b[0m \u001b[0m_register_logging_hooks_on_whole_graph\u001b[0m\u001b[0;34m(\u001b[0m\u001b[0mt_outputs\u001b[0m\u001b[0;34m)\u001b[0m\u001b[0;34m\u001b[0m\u001b[0;34m\u001b[0m\u001b[0m\n\u001b[1;32m    822\u001b[0m     \u001b[0;32mtry\u001b[0m\u001b[0;34m:\u001b[0m\u001b[0;34m\u001b[0m\u001b[0;34m\u001b[0m\u001b[0m\n\u001b[0;32m--> 823\u001b[0;31m         return Variable._execution_engine.run_backward(  # Calls into the C++ engine to run the backward pass\n\u001b[0m\u001b[1;32m    824\u001b[0m             \u001b[0mt_outputs\u001b[0m\u001b[0;34m,\u001b[0m \u001b[0;34m*\u001b[0m\u001b[0margs\u001b[0m\u001b[0;34m,\u001b[0m \u001b[0;34m**\u001b[0m\u001b[0mkwargs\u001b[0m\u001b[0;34m\u001b[0m\u001b[0;34m\u001b[0m\u001b[0m\n\u001b[1;32m    825\u001b[0m         )  # Calls into the C++ engine to run the backward pass\n",
            "\u001b[0;31mKeyboardInterrupt\u001b[0m: "
          ]
        }
      ]
    },
    {
      "cell_type": "code",
      "source": [
        "model.eval()  # Set the model to evaluation mode\n",
        "test_loss = 0.0\n",
        "correct = 0\n",
        "total = 0\n",
        "\n",
        "with torch.no_grad():  # Disable gradient computation for efficiency\n",
        "    for inputs, labels in test_loader:\n",
        "        outputs = model(inputs)  # Forward pass\n",
        "        loss = criterion(outputs, labels)  # Compute loss\n",
        "        test_loss += loss.item()  # Accumulate loss\n",
        "\n",
        "        # Compute accuracy\n",
        "        _, predicted = torch.max(outputs, 1)  # Get class with highest probability\n",
        "        correct += (predicted == labels).sum().item()  # Count correct predictions\n",
        "        total += labels.size(0)  # Total number of samples\n",
        "\n",
        "# Compute average loss and accuracy\n",
        "test_loss /= len(test_loader)\n",
        "test_acc = correct / total\n",
        "\n",
        "print(f'\\nTest Loss: {test_loss:.4f}, Test Accuracy: {test_acc:.4f}')"
      ],
      "metadata": {
        "id": "JkcCUPmZr8BJ"
      },
      "execution_count": null,
      "outputs": []
    },
    {
      "cell_type": "code",
      "source": [
        "\n",
        "torch.save(model.state_dict(), 'rotated_gesture_model.pth')"
      ],
      "metadata": {
        "id": "eUUERlUl7OiR"
      },
      "execution_count": null,
      "outputs": []
    }
  ]
}